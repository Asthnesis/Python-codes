{
  "nbformat": 4,
  "nbformat_minor": 0,
  "metadata": {
    "colab": {
      "provenance": [],
      "authorship_tag": "ABX9TyM7iowXP2NzcMf65U54waM1",
      "include_colab_link": true
    },
    "kernelspec": {
      "name": "python3",
      "display_name": "Python 3"
    },
    "language_info": {
      "name": "python"
    }
  },
  "cells": [
    {
      "cell_type": "markdown",
      "metadata": {
        "id": "view-in-github",
        "colab_type": "text"
      },
      "source": [
        "<a href=\"https://colab.research.google.com/github/Asthnesis/Python-codes/blob/main/Assignment2_final.ipynb\" target=\"_parent\"><img src=\"https://colab.research.google.com/assets/colab-badge.svg\" alt=\"Open In Colab\"/></a>"
      ]
    },
    {
      "cell_type": "code",
      "execution_count": 91,
      "metadata": {
        "colab": {
          "base_uri": "https://localhost:8080/"
        },
        "id": "o_Kt6AtmMTat",
        "outputId": "7f3a6a9b-ccf4-4d32-c872-880926f545a6"
      },
      "outputs": [
        {
          "output_type": "stream",
          "name": "stdout",
          "text": [
            "        Number_of_Casualties  Age_of_Driver\n",
            "173628                   NaN            NaN\n",
            "173629                   NaN            NaN\n",
            "173630                   NaN            NaN\n",
            "173631                   NaN            NaN\n",
            "173632                   NaN            NaN\n",
            "...                      ...            ...\n",
            "175129                   NaN            NaN\n",
            "175130                   NaN            NaN\n",
            "175131                   NaN            NaN\n",
            "175132                   NaN            NaN\n",
            "175133                   NaN            NaN\n",
            "\n",
            "[1506 rows x 2 columns]\n",
            "         Number_of_Casualties  Age_of_Driver\n",
            "2                         3.0           -1.0\n",
            "7                         1.0           -1.0\n",
            "10                        1.0           -1.0\n",
            "24                        1.0           -1.0\n",
            "42                        1.0           -1.0\n",
            "...                       ...            ...\n",
            "1046405                   3.0           -1.0\n",
            "1047910                   1.0           -1.0\n",
            "1048174                   1.0           -1.0\n",
            "1048486                   2.0           -1.0\n",
            "1048492                   1.0           -1.0\n",
            "\n",
            "[116539 rows x 2 columns]\n",
            "       Number_of_Casualties  Age_of_Driver\n",
            "count          1.048559e+06   1.048559e+06\n",
            "mean           1.359752e+00   3.754277e+01\n",
            "std            8.222559e-01   1.462649e+01\n",
            "min            1.000000e+00   1.000000e+00\n",
            "25%            1.000000e+00   2.600000e+01\n",
            "50%            1.000000e+00   3.600000e+01\n",
            "75%            1.000000e+00   4.600000e+01\n",
            "max            6.800000e+01   9.900000e+01\n",
            "<class 'pandas.core.frame.DataFrame'>\n",
            "RangeIndex: 1048559 entries, 0 to 1048558\n",
            "Data columns (total 2 columns):\n",
            " #   Column                Non-Null Count    Dtype  \n",
            "---  ------                --------------    -----  \n",
            " 0   Number_of_Casualties  1048559 non-null  float64\n",
            " 1   Age_of_Driver         1048559 non-null  float64\n",
            "dtypes: float64(2)\n",
            "memory usage: 16.0 MB\n",
            "None\n"
          ]
        }
      ],
      "source": [
        "from numpy import random\n",
        "import pandas as pd\n",
        "import matplotlib.pyplot as plt\n",
        "\n",
        "df = pd.read_csv('/content/assignment.csv')\n",
        "#Check for missing values marked as -1 if any\n",
        "print(df[(df['Number_of_Casualties'].isnull()) | (df['Age_of_Driver'].isnull())])\n",
        "print(df[(df['Number_of_Casualties'] == -1) | (df['Age_of_Driver'] == -1)])\n",
        "#Replacing the missing values with new data\n",
        "df['Age_of_Driver'].replace(-1, random.randint(21, 70), inplace=True)\n",
        "df['Age_of_Driver'].fillna(random.randint(21, 70), inplace=True)\n",
        "df['Number_of_Casualties'].replace(-1, random.randint(1, 5), inplace=True)\n",
        "df['Number_of_Casualties'].fillna(random.randint(1, 5), inplace=True)\n",
        "#Basic information about my data\n",
        "print(df.describe())\n",
        "print(df.info())"
      ]
    },
    {
      "cell_type": "code",
      "source": [
        "#Drawing a scatter plot to visualize my data\n",
        "#df.loc[:,['Casualty_Severity','Age_of_Driver']]\n",
        "df.plot(x='Age_of_Driver', y='Number_of_Casualties', kind='scatter', marker='*', color='r')\n",
        "plt.xlabel('Age of the driver')\n",
        "plt.ylabel('Number of casualties')\n",
        "plt.show()"
      ],
      "metadata": {
        "id": "IjDq322NRjMQ"
      },
      "execution_count": null,
      "outputs": []
    },
    {
      "cell_type": "code",
      "source": [
        "from sklearn.linear_model import LinearRegression\n",
        "#Drawing a linear regression line and visualizing the output\n",
        "x = df[['Age_of_Driver']]\n",
        "y = df[['Number_of_Casualties']]\n",
        "regression = LinearRegression()\n",
        "regression.fit(x,y)\n",
        "df.plot(x='Age_of_Driver',y='Number_of_Casualties',style='^')\n",
        "plt.plot(x, regression.predict(x), color='red', label='Regression line')\n",
        "plt.xlabel('Age of driver')\n",
        "plt.ylabel('Number of casualties')\n",
        "plt.show()"
      ],
      "metadata": {
        "colab": {
          "base_uri": "https://localhost:8080/",
          "height": 449
        },
        "id": "HeLRSu7lvCkW",
        "outputId": "821bd74d-2ac1-47b7-e9e9-afc5d9be7948"
      },
      "execution_count": 89,
      "outputs": [
        {
          "output_type": "display_data",
          "data": {
            "text/plain": [
              "<Figure size 640x480 with 1 Axes>"
            ],
            "image/png": "[encoded data removed]"
          },
          "metadata": {}
        }
      ]
    },
    {
      "cell_type": "code",
      "source": [
        "#Splitting the dataset\n",
        "from sklearn.model_selection import train_test_split\n",
        "x = df[['Age_of_Driver']]\n",
        "y = df[['Number_of_Casualties']]\n",
        "\n",
        "x_train, x_test, y_train, y_test = train_test_split(x,y,test_size=0.2, random_state=1)\n",
        "print(x_train.shape)\n",
        "print(x_test.shape)\n",
        "print(y_train.shape)\n",
        "print(y_test.shape)\n",
        "regressor = LinearRegression()\n",
        "regressor.fit(x_train,y_train)\n",
        "print(regressor.intercept_)\n",
        "print(regressor.coef_)\n",
        "y_pred = regressor.predict(x_test)\n",
        "print(y_pred)\n",
        "y_test\n"
      ],
      "metadata": {
        "id": "5aXsPrqRC6Os"
      },
      "execution_count": null,
      "outputs": []
    },
    {
      "cell_type": "code",
      "source": [
        "#Evaluating the model\n",
        "from sklearn import metrics\n",
        "import numpy as np\n",
        "mae = metrics.mean_absolute_error(y_test, y_pred)\n",
        "mse = metrics.mean_squared_error(y_test, y_pred)\n",
        "rmse = np.sqrt(mse)\n",
        "print(\"Mean Average E: \", mae)\n",
        "print(\"MSE: \", mse)\n",
        "print(\"RMSE: \", rmse)"
      ],
      "metadata": {
        "id": "ePd_o2C7DX1j"
      },
      "execution_count": null,
      "outputs": []
    },
    {
      "cell_type": "code",
      "source": [
        "#Saving the model\n",
        "import joblib\n",
        "import pickle\n",
        "#Training the model\n",
        "model = LinearRegression()\n",
        "model.fit(x,y)\n",
        "joblib.dump(model, 'assignment2.pkl')\n",
        "with open('assignment2.pkl', 'wb') as file:\n",
        "  pickle.dump(model, file)"
      ],
      "metadata": {
        "id": "tTFh5138DiwP"
      },
      "execution_count": 88,
      "outputs": []
    },
    {
      "cell_type": "code",
      "source": [
        "#Training the model on hypothetical data set\n",
        "new_value_x = np.array([18,19,20]).reshape(-1,1)\n",
        "model = joblib.load('assignment2.pkl')\n",
        "prediction = model.predict(new_value_x)\n",
        "new_df=pd.DataFrame({'x':new_value_x.flatten(), 'Predicted_y': prediction.flatten()})\n",
        "print(new_df)"
      ],
      "metadata": {
        "id": "4Ekubva-Dvz3"
      },
      "execution_count": null,
      "outputs": []
    }
  ]
}